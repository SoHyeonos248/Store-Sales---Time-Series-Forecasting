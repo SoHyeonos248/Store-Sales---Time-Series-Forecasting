{
 "cells": [
  {
   "cell_type": "markdown",
   "metadata": {},
   "source": [
    "# Store Sales - Time Series Forecasting\n",
    "\n",
    "data link : https://www.kaggle.com/competitions/store-sales-time-series-forecasting/data"
   ]
  },
  {
   "cell_type": "markdown",
   "metadata": {},
   "source": [
    "In this competition, you will predict sales for the thousands of product families sold at Favorita stores located in Ecuador. The training data includes dates, store and product information, whether that item was being promoted, as well as the sales numbers. Additional files include supplementary information that may be useful in building your models.\n",
    "\n",
    "\n",
    "에콰도르(Ecuador)에 위치한 Favorita stores에서 팔린 수천 개의 **물건 판매량**을 예측하는 과정.\n",
    "\n",
    "training data에 포함된 정보 목록\n",
    "- dates\n",
    "- store\n",
    "- product information\n",
    "- whether that item was being promoted (상품 홍보 여부)\n",
    "- sales number\n",
    "\n",
    "Additional files은 모델을 만드는 데 도움이 될지도 모르는 부가정보를 담고 있다."
   ]
  },
  {
   "cell_type": "code",
   "execution_count": 4,
   "metadata": {},
   "outputs": [
    {
     "ename": "BadGzipFile",
     "evalue": "Not a gzipped file (b'PK')",
     "output_type": "error",
     "traceback": [
      "\u001b[1;31m---------------------------------------------------------------------------\u001b[0m",
      "\u001b[1;31mBadGzipFile\u001b[0m                               Traceback (most recent call last)",
      "\u001b[1;32mc:\\Users\\user\\Study\\Store Sales - Time Series Forecasting\\eda.ipynb Cell 3\u001b[0m line \u001b[0;36m9\n\u001b[0;32m      <a href='vscode-notebook-cell:/c%3A/Users/user/Study/Store%20Sales%20-%20Time%20Series%20Forecasting/eda.ipynb#W2sZmlsZQ%3D%3D?line=5'>6</a>\u001b[0m data_path \u001b[39m=\u001b[39m \u001b[39m'\u001b[39m\u001b[39m./\u001b[39m\u001b[39m'\u001b[39m        \u001b[39m# current data path\u001b[39;00m\n\u001b[0;32m      <a href='vscode-notebook-cell:/c%3A/Users/user/Study/Store%20Sales%20-%20Time%20Series%20Forecasting/eda.ipynb#W2sZmlsZQ%3D%3D?line=7'>8</a>\u001b[0m \u001b[39mwith\u001b[39;00m gzip\u001b[39m.\u001b[39mopen(data_path \u001b[39m+\u001b[39m \u001b[39m'\u001b[39m\u001b[39mstore-sales-time-series-forecasting.zip\u001b[39m\u001b[39m'\u001b[39m,\u001b[39m'\u001b[39m\u001b[39mrb\u001b[39m\u001b[39m'\u001b[39m) \u001b[39mas\u001b[39;00m f:\n\u001b[1;32m----> <a href='vscode-notebook-cell:/c%3A/Users/user/Study/Store%20Sales%20-%20Time%20Series%20Forecasting/eda.ipynb#W2sZmlsZQ%3D%3D?line=8'>9</a>\u001b[0m     \u001b[39mprint\u001b[39m(f\u001b[39m.\u001b[39;49mread())\n\u001b[0;32m     <a href='vscode-notebook-cell:/c%3A/Users/user/Study/Store%20Sales%20-%20Time%20Series%20Forecasting/eda.ipynb#W2sZmlsZQ%3D%3D?line=9'>10</a>\u001b[0m     \u001b[39m# store = pd.read_csv(f)\u001b[39;00m\n",
      "File \u001b[1;32m~\\anaconda3\\Lib\\gzip.py:301\u001b[0m, in \u001b[0;36mGzipFile.read\u001b[1;34m(self, size)\u001b[0m\n\u001b[0;32m    299\u001b[0m     \u001b[39mimport\u001b[39;00m \u001b[39merrno\u001b[39;00m\n\u001b[0;32m    300\u001b[0m     \u001b[39mraise\u001b[39;00m \u001b[39mOSError\u001b[39;00m(errno\u001b[39m.\u001b[39mEBADF, \u001b[39m\"\u001b[39m\u001b[39mread() on write-only GzipFile object\u001b[39m\u001b[39m\"\u001b[39m)\n\u001b[1;32m--> 301\u001b[0m \u001b[39mreturn\u001b[39;00m \u001b[39mself\u001b[39;49m\u001b[39m.\u001b[39;49m_buffer\u001b[39m.\u001b[39;49mread(size)\n",
      "File \u001b[1;32m~\\anaconda3\\Lib\\_compression.py:118\u001b[0m, in \u001b[0;36mDecompressReader.readall\u001b[1;34m(self)\u001b[0m\n\u001b[0;32m    114\u001b[0m chunks \u001b[39m=\u001b[39m []\n\u001b[0;32m    115\u001b[0m \u001b[39m# sys.maxsize means the max length of output buffer is unlimited,\u001b[39;00m\n\u001b[0;32m    116\u001b[0m \u001b[39m# so that the whole input buffer can be decompressed within one\u001b[39;00m\n\u001b[0;32m    117\u001b[0m \u001b[39m# .decompress() call.\u001b[39;00m\n\u001b[1;32m--> 118\u001b[0m \u001b[39mwhile\u001b[39;00m data \u001b[39m:=\u001b[39m \u001b[39mself\u001b[39;49m\u001b[39m.\u001b[39;49mread(sys\u001b[39m.\u001b[39;49mmaxsize):\n\u001b[0;32m    119\u001b[0m     chunks\u001b[39m.\u001b[39mappend(data)\n\u001b[0;32m    121\u001b[0m \u001b[39mreturn\u001b[39;00m \u001b[39mb\u001b[39m\u001b[39m\"\u001b[39m\u001b[39m\"\u001b[39m\u001b[39m.\u001b[39mjoin(chunks)\n",
      "File \u001b[1;32m~\\anaconda3\\Lib\\gzip.py:499\u001b[0m, in \u001b[0;36m_GzipReader.read\u001b[1;34m(self, size)\u001b[0m\n\u001b[0;32m    495\u001b[0m \u001b[39mif\u001b[39;00m \u001b[39mself\u001b[39m\u001b[39m.\u001b[39m_new_member:\n\u001b[0;32m    496\u001b[0m     \u001b[39m# If the _new_member flag is set, we have to\u001b[39;00m\n\u001b[0;32m    497\u001b[0m     \u001b[39m# jump to the next member, if there is one.\u001b[39;00m\n\u001b[0;32m    498\u001b[0m     \u001b[39mself\u001b[39m\u001b[39m.\u001b[39m_init_read()\n\u001b[1;32m--> 499\u001b[0m     \u001b[39mif\u001b[39;00m \u001b[39mnot\u001b[39;00m \u001b[39mself\u001b[39;49m\u001b[39m.\u001b[39;49m_read_gzip_header():\n\u001b[0;32m    500\u001b[0m         \u001b[39mself\u001b[39m\u001b[39m.\u001b[39m_size \u001b[39m=\u001b[39m \u001b[39mself\u001b[39m\u001b[39m.\u001b[39m_pos\n\u001b[0;32m    501\u001b[0m         \u001b[39mreturn\u001b[39;00m \u001b[39mb\u001b[39m\u001b[39m\"\u001b[39m\u001b[39m\"\u001b[39m\n",
      "File \u001b[1;32m~\\anaconda3\\Lib\\gzip.py:468\u001b[0m, in \u001b[0;36m_GzipReader._read_gzip_header\u001b[1;34m(self)\u001b[0m\n\u001b[0;32m    467\u001b[0m \u001b[39mdef\u001b[39;00m \u001b[39m_read_gzip_header\u001b[39m(\u001b[39mself\u001b[39m):\n\u001b[1;32m--> 468\u001b[0m     last_mtime \u001b[39m=\u001b[39m _read_gzip_header(\u001b[39mself\u001b[39;49m\u001b[39m.\u001b[39;49m_fp)\n\u001b[0;32m    469\u001b[0m     \u001b[39mif\u001b[39;00m last_mtime \u001b[39mis\u001b[39;00m \u001b[39mNone\u001b[39;00m:\n\u001b[0;32m    470\u001b[0m         \u001b[39mreturn\u001b[39;00m \u001b[39mFalse\u001b[39;00m\n",
      "File \u001b[1;32m~\\anaconda3\\Lib\\gzip.py:428\u001b[0m, in \u001b[0;36m_read_gzip_header\u001b[1;34m(fp)\u001b[0m\n\u001b[0;32m    425\u001b[0m     \u001b[39mreturn\u001b[39;00m \u001b[39mNone\u001b[39;00m\n\u001b[0;32m    427\u001b[0m \u001b[39mif\u001b[39;00m magic \u001b[39m!=\u001b[39m \u001b[39mb\u001b[39m\u001b[39m'\u001b[39m\u001b[39m\\037\u001b[39;00m\u001b[39m\\213\u001b[39;00m\u001b[39m'\u001b[39m:\n\u001b[1;32m--> 428\u001b[0m     \u001b[39mraise\u001b[39;00m BadGzipFile(\u001b[39m'\u001b[39m\u001b[39mNot a gzipped file (\u001b[39m\u001b[39m%r\u001b[39;00m\u001b[39m)\u001b[39m\u001b[39m'\u001b[39m \u001b[39m%\u001b[39m magic)\n\u001b[0;32m    430\u001b[0m (method, flag, last_mtime) \u001b[39m=\u001b[39m struct\u001b[39m.\u001b[39munpack(\u001b[39m\"\u001b[39m\u001b[39m<BBIxx\u001b[39m\u001b[39m\"\u001b[39m, _read_exact(fp, \u001b[39m8\u001b[39m))\n\u001b[0;32m    431\u001b[0m \u001b[39mif\u001b[39;00m method \u001b[39m!=\u001b[39m \u001b[39m8\u001b[39m:\n",
      "\u001b[1;31mBadGzipFile\u001b[0m: Not a gzipped file (b'PK')"
     ]
    }
   ],
   "source": [
    "# 데이터 불러오기\n",
    "\n",
    "import gzip\n",
    "import pandas as pd\n",
    "\n",
    "data_path = './'        # current data path\n",
    "\n",
    "with gzip.open(data_path + 'store-sales-time-series-forecasting.zip','rb') as f:\n",
    "    print(f.read())\n",
    "    # store = pd.read_csv(f)"
   ]
  },
  {
   "cell_type": "markdown",
   "metadata": {},
   "source": [
    "### Poetry에서 Jupyter 사용하기\n",
    "\n",
    "1. poetry init 으로 가상환경을 만든다.\n",
    "2. poetry shell로 만든 가상환경에 접속한다. terminal에 뜬 명령어 맨 앞에 (\"자신이 만든 가상환경 이름\")이 떠야 한다.\n",
    "3. 됐다면 numpy, pandas 등 기본적인 Python 환경에서 필요한 라이브러리를 설치한다. poetry add ['필요한 환경 이름'] 으로 설치할 수 있다.\n",
    "4. ipynb를 사용하기 위해 poetry add notebook을 설치한다.\n",
    "5. poetry run jupyter notebook 을 입력해 jupyter notebook의 서버를 실행시킨다.\n",
    "+. vscode는 jupyter의 extension을 지원한다. 필요하면 다운받기..."
   ]
  },
  {
   "cell_type": "code",
   "execution_count": null,
   "metadata": {},
   "outputs": [],
   "source": [
    "# https://hippocampus-garden.com/jupyter_poetry_pipenv/\n",
    "\n",
    "# poetry shell\n",
    "# poetry run jupyter notebook  # jupyter를 poetry에서 실행"
   ]
  },
  {
   "cell_type": "code",
   "execution_count": 2,
   "metadata": {},
   "outputs": [
    {
     "name": "stdout",
     "output_type": "stream",
     "text": [
      "Hello world\n"
     ]
    }
   ],
   "source": [
    "print(\"Hello world\")"
   ]
  }
 ],
 "metadata": {
  "kernelspec": {
   "display_name": "Python 3 (ipykernel)",
   "language": "python",
   "name": "python3"
  },
  "language_info": {
   "codemirror_mode": {
    "name": "ipython",
    "version": 3
   },
   "file_extension": ".py",
   "mimetype": "text/x-python",
   "name": "python",
   "nbconvert_exporter": "python",
   "pygments_lexer": "ipython3",
   "version": "3.11.5"
  }
 },
 "nbformat": 4,
 "nbformat_minor": 2
}
