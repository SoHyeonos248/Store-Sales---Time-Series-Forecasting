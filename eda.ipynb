{
 "cells": [
  {
   "cell_type": "markdown",
   "metadata": {},
   "source": [
    "# Store Sales - Time Series Forecasting\n",
    "\n",
    "data link : https://www.kaggle.com/competitions/store-sales-time-series-forecasting/data"
   ]
  },
  {
   "cell_type": "markdown",
   "metadata": {},
   "source": [
    "In this competition, you will predict sales for the thousands of product families sold at Favorita stores located in Ecuador. The training data includes dates, store and product information, whether that item was being promoted, as well as the sales numbers. Additional files include supplementary information that may be useful in building your models.\n",
    "\n",
    "\n",
    "에콰도르(Ecuador)에 위치한 Favorita stores에서 팔린 수천 개의 **물건 판매량**을 예측하는 과정.\n",
    "\n",
    "training data에 포함된 정보 목록\n",
    "- dates\n",
    "- store\n",
    "- product information\n",
    "- whether that item was being promoted (상품 홍보 여부)\n",
    "- sales number\n",
    "\n",
    "Additional files은 모델을 만드는 데 도움이 될지도 모르는 부가정보를 담고 있다."
   ]
  },
  {
   "cell_type": "code",
   "execution_count": null,
   "metadata": {},
   "outputs": [],
   "source": [
    "# 데이터 불러오기\n",
    "\n",
    "import gzip\n",
    "import pandas as pd\n",
    "\n",
    "data_path = './'        # current data path\n",
    "\n",
    "with gzip.open(data_path + 'store-sales-time-series-forecasting.zip','rb') as f:\n",
    "    store = pd.read_csv(f)"
   ]
  },
  {
   "cell_type": "code",
   "execution_count": null,
   "metadata": {},
   "outputs": [],
   "source": [
    "# https://hippocampus-garden.com/jupyter_poetry_pipenv/\n",
    "\n",
    "# poetry shell\n",
    "# poetry run jupyter notebook  # jupyter를 poetry에서 실행"
   ]
  },
  {
   "cell_type": "code",
   "execution_count": null,
   "metadata": {},
   "outputs": [],
   "source": [
    "data_path"
   ]
  }
 ],
 "metadata": {
  "kernelspec": {
   "display_name": "Python 3",
   "language": "python",
   "name": "python3"
  },
  "language_info": {
   "name": "python",
   "version": "3.10.4"
  }
 },
 "nbformat": 4,
 "nbformat_minor": 2
}
